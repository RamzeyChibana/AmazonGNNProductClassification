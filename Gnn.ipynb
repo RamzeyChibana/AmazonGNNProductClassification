{
 "cells": [
  {
   "cell_type": "code",
   "execution_count": 20,
   "metadata": {},
   "outputs": [
    {
     "name": "stdout",
     "output_type": "stream",
     "text": [
      "cuda\n"
     ]
    }
   ],
   "source": [
    "import torch\n",
    "import torch.nn as nn\n",
    "import torch.nn.functional as F\n",
    "import torch_geometric \n",
    "import torch_geometric.nn as gnn\n",
    "from torch_geometric.loader import NeighborSampler,NeighborLoader\n",
    "import pandas as pd\n",
    "import numpy as np \n",
    "import matplotlib.pyplot as plt \n",
    "import os   \n",
    "from tqdm import tqdm\n",
    "\n",
    "device = torch.device(\"cuda\" if torch.cuda.is_available() else \"cpu\")\n",
    "MODEL_PATH = \"Models/Sage/\"\n",
    "print(device)"
   ]
  },
  {
   "cell_type": "code",
   "execution_count": 6,
   "metadata": {},
   "outputs": [],
   "source": [
    "from ogb.nodeproppred import PygNodePropPredDataset,Evaluator\n",
    "\n",
    "data_path = \"Dataset/\"\n",
    "dataset = PygNodePropPredDataset(\"ogbn-products\",data_path)"
   ]
  },
  {
   "cell_type": "code",
   "execution_count": 7,
   "metadata": {},
   "outputs": [
    {
     "name": "stdout",
     "output_type": "stream",
     "text": [
      "Nodes of train Data : 196615\n",
      "Nodes of valid Data :39323\n",
      "Nodes of test Data :2213091\n"
     ]
    }
   ],
   "source": [
    "split_idx = dataset.get_idx_split()\n",
    "split_idx.keys()\n",
    "train_idx = split_idx[\"train\"]\n",
    "val_idx = split_idx[\"valid\"]\n",
    "test_idx = split_idx[\"test\"]\n",
    "\n",
    "print(f\"Nodes of train Data : {train_idx.shape[0]}\")\n",
    "print(f\"Nodes of valid Data :{val_idx.shape[0]}\")\n",
    "print(f\"Nodes of test Data :{test_idx.shape[0]}\")"
   ]
  },
  {
   "cell_type": "code",
   "execution_count": 8,
   "metadata": {},
   "outputs": [
    {
     "name": "stdout",
     "output_type": "stream",
     "text": [
      "Data(num_nodes=2449029, edge_index=[2, 123718280], x=[2449029, 100], y=[2449029, 1])\n"
     ]
    }
   ],
   "source": [
    "data = dataset[0]\n",
    "print(data)\n",
    "\n"
   ]
  },
  {
   "cell_type": "code",
   "execution_count": 9,
   "metadata": {},
   "outputs": [
    {
     "name": "stdout",
     "output_type": "stream",
     "text": [
      "Num of nodes in graph : 2449029\n",
      "Num of edges in graph : 123718280\n",
      "Num of features of node in graph  : 100\n"
     ]
    }
   ],
   "source": [
    "print(f\"Num of nodes in graph : {data.num_nodes}\")\n",
    "print(f\"Num of edges in graph : {data.edge_index.shape[1]}\")\n",
    "print(f\"Num of features of node in graph  : {data.x.shape[1]}\")"
   ]
  },
  {
   "cell_type": "code",
   "execution_count": 10,
   "metadata": {},
   "outputs": [
    {
     "name": "stdout",
     "output_type": "stream",
     "text": [
      "the labels are :tensor([ 0,  1,  2,  3,  4,  5,  6,  7,  8,  9, 10, 11, 12, 13, 14, 15, 16, 17,\n",
      "        18, 19, 20, 21, 22, 23, 24, 25, 26, 27, 28, 29, 30, 31, 32, 33, 34, 35,\n",
      "        36, 37, 38, 39, 40, 41, 42, 43, 44, 45, 46])\n",
      "label name by idx :{0: 'Home & Kitchen', 1: 'Health & Personal Care', 2: 'Beauty', 3: 'Sports & Outdoors', 4: 'Books', 5: 'Patio, Lawn & Garden', 6: 'Toys & Games', 7: 'CDs & Vinyl', 8: 'Cell Phones & Accessories', 9: 'Grocery & Gourmet Food', 10: 'Arts, Crafts & Sewing', 11: 'Clothing, Shoes & Jewelry', 12: 'Electronics', 13: 'Movies & TV', 14: 'Software', 15: 'Video Games', 16: 'Automotive', 17: 'Pet Supplies', 18: 'Office Products', 19: 'Industrial & Scientific', 20: 'Musical Instruments', 21: 'Tools & Home Improvement', 22: 'Magazine Subscriptions', 23: 'Baby Products', 24: nan, 25: 'Appliances', 26: 'Kitchen & Dining', 27: 'Collectibles & Fine Art', 28: 'All Beauty', 29: 'Luxury Beauty', 30: 'Amazon Fashion', 31: 'Computers', 32: 'All Electronics', 33: 'Purchase Circles', 34: 'MP3 Players & Accessories', 35: 'Gift Cards', 36: 'Office & School Supplies', 37: 'Home Improvement', 38: 'Camera & Photo', 39: 'GPS & Navigation', 40: 'Digital Music', 41: 'Car Electronics', 42: 'Baby', 43: 'Kindle Store', 44: 'Buy a Kindle', 45: 'Furniture & D&#233;cor', 46: '#508510'}\n"
     ]
    },
    {
     "data": {
      "text/html": [
       "<div>\n",
       "<style scoped>\n",
       "    .dataframe tbody tr th:only-of-type {\n",
       "        vertical-align: middle;\n",
       "    }\n",
       "\n",
       "    .dataframe tbody tr th {\n",
       "        vertical-align: top;\n",
       "    }\n",
       "\n",
       "    .dataframe thead th {\n",
       "        text-align: right;\n",
       "    }\n",
       "</style>\n",
       "<table border=\"1\" class=\"dataframe\">\n",
       "  <thead>\n",
       "    <tr style=\"text-align: right;\">\n",
       "      <th></th>\n",
       "      <th>label idx</th>\n",
       "      <th>product category</th>\n",
       "    </tr>\n",
       "  </thead>\n",
       "  <tbody>\n",
       "    <tr>\n",
       "      <th>0</th>\n",
       "      <td>0</td>\n",
       "      <td>Home &amp; Kitchen</td>\n",
       "    </tr>\n",
       "    <tr>\n",
       "      <th>1</th>\n",
       "      <td>1</td>\n",
       "      <td>Health &amp; Personal Care</td>\n",
       "    </tr>\n",
       "    <tr>\n",
       "      <th>2</th>\n",
       "      <td>2</td>\n",
       "      <td>Beauty</td>\n",
       "    </tr>\n",
       "    <tr>\n",
       "      <th>3</th>\n",
       "      <td>3</td>\n",
       "      <td>Sports &amp; Outdoors</td>\n",
       "    </tr>\n",
       "    <tr>\n",
       "      <th>4</th>\n",
       "      <td>4</td>\n",
       "      <td>Books</td>\n",
       "    </tr>\n",
       "    <tr>\n",
       "      <th>5</th>\n",
       "      <td>5</td>\n",
       "      <td>Patio, Lawn &amp; Garden</td>\n",
       "    </tr>\n",
       "    <tr>\n",
       "      <th>6</th>\n",
       "      <td>6</td>\n",
       "      <td>Toys &amp; Games</td>\n",
       "    </tr>\n",
       "    <tr>\n",
       "      <th>7</th>\n",
       "      <td>7</td>\n",
       "      <td>CDs &amp; Vinyl</td>\n",
       "    </tr>\n",
       "    <tr>\n",
       "      <th>8</th>\n",
       "      <td>8</td>\n",
       "      <td>Cell Phones &amp; Accessories</td>\n",
       "    </tr>\n",
       "    <tr>\n",
       "      <th>9</th>\n",
       "      <td>9</td>\n",
       "      <td>Grocery &amp; Gourmet Food</td>\n",
       "    </tr>\n",
       "    <tr>\n",
       "      <th>10</th>\n",
       "      <td>10</td>\n",
       "      <td>Arts, Crafts &amp; Sewing</td>\n",
       "    </tr>\n",
       "    <tr>\n",
       "      <th>11</th>\n",
       "      <td>11</td>\n",
       "      <td>Clothing, Shoes &amp; Jewelry</td>\n",
       "    </tr>\n",
       "    <tr>\n",
       "      <th>12</th>\n",
       "      <td>12</td>\n",
       "      <td>Electronics</td>\n",
       "    </tr>\n",
       "    <tr>\n",
       "      <th>13</th>\n",
       "      <td>13</td>\n",
       "      <td>Movies &amp; TV</td>\n",
       "    </tr>\n",
       "    <tr>\n",
       "      <th>14</th>\n",
       "      <td>14</td>\n",
       "      <td>Software</td>\n",
       "    </tr>\n",
       "    <tr>\n",
       "      <th>15</th>\n",
       "      <td>15</td>\n",
       "      <td>Video Games</td>\n",
       "    </tr>\n",
       "    <tr>\n",
       "      <th>16</th>\n",
       "      <td>16</td>\n",
       "      <td>Automotive</td>\n",
       "    </tr>\n",
       "    <tr>\n",
       "      <th>17</th>\n",
       "      <td>17</td>\n",
       "      <td>Pet Supplies</td>\n",
       "    </tr>\n",
       "    <tr>\n",
       "      <th>18</th>\n",
       "      <td>18</td>\n",
       "      <td>Office Products</td>\n",
       "    </tr>\n",
       "    <tr>\n",
       "      <th>19</th>\n",
       "      <td>19</td>\n",
       "      <td>Industrial &amp; Scientific</td>\n",
       "    </tr>\n",
       "    <tr>\n",
       "      <th>20</th>\n",
       "      <td>20</td>\n",
       "      <td>Musical Instruments</td>\n",
       "    </tr>\n",
       "    <tr>\n",
       "      <th>21</th>\n",
       "      <td>21</td>\n",
       "      <td>Tools &amp; Home Improvement</td>\n",
       "    </tr>\n",
       "    <tr>\n",
       "      <th>22</th>\n",
       "      <td>22</td>\n",
       "      <td>Magazine Subscriptions</td>\n",
       "    </tr>\n",
       "    <tr>\n",
       "      <th>23</th>\n",
       "      <td>23</td>\n",
       "      <td>Baby Products</td>\n",
       "    </tr>\n",
       "    <tr>\n",
       "      <th>24</th>\n",
       "      <td>24</td>\n",
       "      <td>NaN</td>\n",
       "    </tr>\n",
       "    <tr>\n",
       "      <th>25</th>\n",
       "      <td>25</td>\n",
       "      <td>Appliances</td>\n",
       "    </tr>\n",
       "    <tr>\n",
       "      <th>26</th>\n",
       "      <td>26</td>\n",
       "      <td>Kitchen &amp; Dining</td>\n",
       "    </tr>\n",
       "    <tr>\n",
       "      <th>27</th>\n",
       "      <td>27</td>\n",
       "      <td>Collectibles &amp; Fine Art</td>\n",
       "    </tr>\n",
       "    <tr>\n",
       "      <th>28</th>\n",
       "      <td>28</td>\n",
       "      <td>All Beauty</td>\n",
       "    </tr>\n",
       "    <tr>\n",
       "      <th>29</th>\n",
       "      <td>29</td>\n",
       "      <td>Luxury Beauty</td>\n",
       "    </tr>\n",
       "    <tr>\n",
       "      <th>30</th>\n",
       "      <td>30</td>\n",
       "      <td>Amazon Fashion</td>\n",
       "    </tr>\n",
       "    <tr>\n",
       "      <th>31</th>\n",
       "      <td>31</td>\n",
       "      <td>Computers</td>\n",
       "    </tr>\n",
       "    <tr>\n",
       "      <th>32</th>\n",
       "      <td>32</td>\n",
       "      <td>All Electronics</td>\n",
       "    </tr>\n",
       "    <tr>\n",
       "      <th>33</th>\n",
       "      <td>33</td>\n",
       "      <td>Purchase Circles</td>\n",
       "    </tr>\n",
       "    <tr>\n",
       "      <th>34</th>\n",
       "      <td>34</td>\n",
       "      <td>MP3 Players &amp; Accessories</td>\n",
       "    </tr>\n",
       "    <tr>\n",
       "      <th>35</th>\n",
       "      <td>35</td>\n",
       "      <td>Gift Cards</td>\n",
       "    </tr>\n",
       "    <tr>\n",
       "      <th>36</th>\n",
       "      <td>36</td>\n",
       "      <td>Office &amp; School Supplies</td>\n",
       "    </tr>\n",
       "    <tr>\n",
       "      <th>37</th>\n",
       "      <td>37</td>\n",
       "      <td>Home Improvement</td>\n",
       "    </tr>\n",
       "    <tr>\n",
       "      <th>38</th>\n",
       "      <td>38</td>\n",
       "      <td>Camera &amp; Photo</td>\n",
       "    </tr>\n",
       "    <tr>\n",
       "      <th>39</th>\n",
       "      <td>39</td>\n",
       "      <td>GPS &amp; Navigation</td>\n",
       "    </tr>\n",
       "    <tr>\n",
       "      <th>40</th>\n",
       "      <td>40</td>\n",
       "      <td>Digital Music</td>\n",
       "    </tr>\n",
       "    <tr>\n",
       "      <th>41</th>\n",
       "      <td>41</td>\n",
       "      <td>Car Electronics</td>\n",
       "    </tr>\n",
       "    <tr>\n",
       "      <th>42</th>\n",
       "      <td>42</td>\n",
       "      <td>Baby</td>\n",
       "    </tr>\n",
       "    <tr>\n",
       "      <th>43</th>\n",
       "      <td>43</td>\n",
       "      <td>Kindle Store</td>\n",
       "    </tr>\n",
       "    <tr>\n",
       "      <th>44</th>\n",
       "      <td>44</td>\n",
       "      <td>Buy a Kindle</td>\n",
       "    </tr>\n",
       "    <tr>\n",
       "      <th>45</th>\n",
       "      <td>45</td>\n",
       "      <td>Furniture &amp; D&amp;#233;cor</td>\n",
       "    </tr>\n",
       "    <tr>\n",
       "      <th>46</th>\n",
       "      <td>46</td>\n",
       "      <td>#508510</td>\n",
       "    </tr>\n",
       "  </tbody>\n",
       "</table>\n",
       "</div>"
      ],
      "text/plain": [
       "    label idx           product category\n",
       "0           0             Home & Kitchen\n",
       "1           1     Health & Personal Care\n",
       "2           2                     Beauty\n",
       "3           3          Sports & Outdoors\n",
       "4           4                      Books\n",
       "5           5       Patio, Lawn & Garden\n",
       "6           6               Toys & Games\n",
       "7           7                CDs & Vinyl\n",
       "8           8  Cell Phones & Accessories\n",
       "9           9     Grocery & Gourmet Food\n",
       "10         10      Arts, Crafts & Sewing\n",
       "11         11  Clothing, Shoes & Jewelry\n",
       "12         12                Electronics\n",
       "13         13                Movies & TV\n",
       "14         14                   Software\n",
       "15         15                Video Games\n",
       "16         16                 Automotive\n",
       "17         17               Pet Supplies\n",
       "18         18            Office Products\n",
       "19         19    Industrial & Scientific\n",
       "20         20        Musical Instruments\n",
       "21         21   Tools & Home Improvement\n",
       "22         22     Magazine Subscriptions\n",
       "23         23              Baby Products\n",
       "24         24                        NaN\n",
       "25         25                 Appliances\n",
       "26         26           Kitchen & Dining\n",
       "27         27    Collectibles & Fine Art\n",
       "28         28                 All Beauty\n",
       "29         29              Luxury Beauty\n",
       "30         30             Amazon Fashion\n",
       "31         31                  Computers\n",
       "32         32            All Electronics\n",
       "33         33           Purchase Circles\n",
       "34         34  MP3 Players & Accessories\n",
       "35         35                 Gift Cards\n",
       "36         36   Office & School Supplies\n",
       "37         37           Home Improvement\n",
       "38         38             Camera & Photo\n",
       "39         39           GPS & Navigation\n",
       "40         40              Digital Music\n",
       "41         41            Car Electronics\n",
       "42         42                       Baby\n",
       "43         43               Kindle Store\n",
       "44         44               Buy a Kindle\n",
       "45         45     Furniture & D&#233;cor\n",
       "46         46                    #508510"
      ]
     },
     "execution_count": 10,
     "metadata": {},
     "output_type": "execute_result"
    }
   ],
   "source": [
    "labels = data.y.unique()\n",
    "df_labels = pd.read_csv(\"Dataset/ogbn_products/mapping/labelidx2productcategory.csv.gz\")\n",
    "keys = df_labels[\"label idx\"].values\n",
    "values = df_labels[\"product category\"].values\n",
    "\n",
    "labels_mapping = dict(zip(keys,values))\n",
    "\n",
    "print(f\"the labels are :{labels}\")\n",
    "print(f\"label name by idx :{labels_mapping}\")\n",
    "df_labels.head(df_labels.shape[0])\n",
    "\n"
   ]
  },
  {
   "cell_type": "code",
   "execution_count": 11,
   "metadata": {},
   "outputs": [
    {
     "name": "stdout",
     "output_type": "stream",
     "text": [
      "Home & Kitchen : 114294\n",
      "Health & Personal Care : 109832\n",
      "Beauty : 116043\n",
      "Sports & Outdoors : 151061\n",
      "Books : 668950\n",
      "Patio, Lawn & Garden : 40715\n",
      "Toys & Games : 158771\n",
      "CDs & Vinyl : 172199\n",
      "Cell Phones & Accessories : 110796\n",
      "Grocery & Gourmet Food : 67358\n",
      "Arts, Crafts & Sewing : 52345\n",
      "Clothing, Shoes & Jewelry : 32937\n",
      "Electronics : 131886\n",
      "Movies & TV : 101541\n",
      "Software : 3079\n",
      "Video Games : 26911\n",
      "Automotive : 83594\n",
      "Pet Supplies : 42337\n",
      "Office Products : 49019\n",
      "Industrial & Scientific : 17438\n",
      "Musical Instruments : 22575\n",
      "Tools & Home Improvement : 80795\n",
      "Magazine Subscriptions : 879\n",
      "Baby Products : 3653\n",
      "nan : 45406\n",
      "Appliances : 3024\n",
      "Kitchen & Dining : 553\n",
      "Collectibles & Fine Art : 259\n",
      "All Beauty : 1969\n",
      "Luxury Beauty : 1561\n",
      "Amazon Fashion : 277\n",
      "Computers : 418\n",
      "All Electronics : 513\n",
      "Purchase Circles : 29\n",
      "MP3 Players & Accessories : 154\n",
      "Gift Cards : 44\n",
      "Office & School Supplies : 630\n",
      "Home Improvement : 514\n",
      "Camera & Photo : 91\n",
      "GPS & Navigation : 37\n",
      "Digital Music : 6\n",
      "Car Electronics : 61\n",
      "Baby : 32500\n",
      "Kindle Store : 1399\n",
      "Buy a Kindle : 566\n",
      "Furniture & D&#233;cor : 9\n",
      "#508510 : 1\n"
     ]
    }
   ],
   "source": [
    "from pandas.core.common import flatten\n",
    "from collections import Counter\n",
    "\n",
    "y = data.y.cpu().numpy().flatten()\n",
    "labels_count = Counter(y)\n",
    "for i in labels_count.keys():\n",
    "    print(f\"{labels_mapping[i]} :\",labels_count[i])"
   ]
  },
  {
   "cell_type": "code",
   "execution_count": 12,
   "metadata": {},
   "outputs": [
    {
     "data": {
      "text/plain": [
       "device(type='cuda', index=0)"
      ]
     },
     "execution_count": 12,
     "metadata": {},
     "output_type": "execute_result"
    }
   ],
   "source": [
    "X = data.x.to(device)\n",
    "y = data.y.squeeze().to(device)\n",
    "X.device"
   ]
  },
  {
   "cell_type": "code",
   "execution_count": 9,
   "metadata": {},
   "outputs": [
    {
     "name": "stderr",
     "output_type": "stream",
     "text": [
      "c:\\dev\\python\\lib\\site-packages\\torch\\utils\\data\\dataloader.py:561: UserWarning: This DataLoader will create 12 worker processes in total. Our suggested max number of worker in current system is 6 (`cpuset` is not taken into account), which is smaller than what this DataLoader is going to create. Please be aware that excessive worker creation might get DataLoader running slow or even freeze, lower the worker number to avoid potential slowness/freeze if necessary.\n",
      "  warnings.warn(_create_warning_msg(\n"
     ]
    }
   ],
   "source": [
    "\n",
    "\n",
    "train_loader = NeighborSampler(data.edge_index,node_idx=train_idx,sizes=[15,10,5],batch_size=1024,num_workers=12,shuffle=True)\n",
    "\n",
    "\n"
   ]
  },
  {
   "cell_type": "code",
   "execution_count": 10,
   "metadata": {},
   "outputs": [
    {
     "name": "stdout",
     "output_type": "stream",
     "text": [
      "batch size = 1024 | n_id.shape = 441903\n",
      "\tk:0\n",
      "\t\tedge index :torch.Size([2, 659708])\n",
      "\t\tsize :(441903, 132337)\n",
      "\tk:1\n",
      "\t\tedge index :torch.Size([2, 156824])\n",
      "\t\tsize :(132337, 15802)\n",
      "\tk:2\n",
      "\t\tedge index :torch.Size([2, 15119])\n",
      "\t\tsize :(15802, 1024)\n",
      "batch size = 1024 | n_id.shape = 443032\n",
      "\tk:0\n",
      "\t\tedge index :torch.Size([2, 660125])\n",
      "\t\tsize :(443032, 132444)\n",
      "\tk:1\n",
      "\t\tedge index :torch.Size([2, 156478])\n",
      "\t\tsize :(132444, 15780)\n",
      "\tk:2\n",
      "\t\tedge index :torch.Size([2, 15141])\n",
      "\t\tsize :(15780, 1024)\n"
     ]
    }
   ],
   "source": [
    "def test_data(train_loader):\n",
    "    for i,(batch_size,n_id,adjs) in enumerate(train_loader):\n",
    "        print(f\"batch size = {batch_size} | n_id.shape = {n_id.shape[0]}\")\n",
    "        for k,(edge_index,_,size) in enumerate(adjs):\n",
    "            print(f\"\\tk:{k}\")\n",
    "            print(f\"\\t\\tedge index :{edge_index.shape}\")\n",
    "            print(f\"\\t\\tsize :{size}\")\n",
    "        if i ==1 :\n",
    "            break\n",
    "test_data(train_loader)\n"
   ]
  },
  {
   "cell_type": "markdown",
   "metadata": {},
   "source": [
    "# Build Model"
   ]
  },
  {
   "cell_type": "code",
   "execution_count": 14,
   "metadata": {},
   "outputs": [],
   "source": [
    "\n",
    "class Sage(nn.Module):\n",
    "    def __init__(self,in_dim,out_dim,hidden_dim,num_layers):\n",
    "        super(Sage,self).__init__()\n",
    "        self.num_layers = num_layers\n",
    "        self.convs = nn.ModuleList()\n",
    "\n",
    "        self.convs.append(gnn.SAGEConv(in_dim,hidden_dim))\n",
    "        for _ in range(num_layers-2):\n",
    "            self.convs.append(gnn.SAGEConv(hidden_dim,hidden_dim))\n",
    "        self.convs.append(gnn.SAGEConv(hidden_dim,out_dim))\n",
    "\n",
    "\n",
    "    def reset_parameters(self):\n",
    "        for conv in self.convs:\n",
    "            conv.reset_parameters()\n",
    "    \n",
    "    def forward(self,x,adj):\n",
    "        for k,(edge_index,_,size) in enumerate(adj):\n",
    "            x_targets = x[:size[1]] # Target Nodes are first always\n",
    "            x = self.convs[k]((x,x_targets),edge_index)\n",
    "            if k != self.num_layers-1:\n",
    "                x = F.relu(x)\n",
    "                x = F.dropout(x,p=0.5,training=self.training)\n",
    "        return x.log_softmax(dim=-1)\n",
    "    def inference(self,x_all):\n",
    "        pbar = tqdm(total=self.num_layers*x_all.shape[0])\n",
    "        pbar.set_description(\"Evaluating :\")\n",
    "        for i in range(self.num_layers):\n",
    "            xs = []\n",
    "            for batch_size,n_id,adj in subgraph_loader:\n",
    "                edge_index,_,size = adj.to(device)\n",
    "                x = x_all[n_id].to(device)\n",
    "                x_target = x[:size[1]]\n",
    "\n",
    "                x = self.convs[i]((x,x_target),edge_index)\n",
    "                if i != self.num_layers - 1:\n",
    "                    x = F.relu(x)\n",
    "                 \n",
    "                xs.append(x.cpu())\n",
    "                pbar.update(batch_size)\n",
    "            x_all = torch.cat(xs,dim=0)\n",
    "            \n",
    "        pbar.close()\n",
    "\n",
    "        return x_all\n",
    "\n",
    "        \n",
    "\n",
    "\n",
    "\n",
    "\n",
    "\n",
    "model = Sage(dataset.num_features,dataset.num_classes,256,num_layers=3).to(device)"
   ]
  },
  {
   "cell_type": "code",
   "execution_count": 15,
   "metadata": {},
   "outputs": [],
   "source": [
    "def trainstep(epoch):\n",
    "    model.train()\n",
    "\n",
    "\n",
    "    pbar = tqdm(total=train_idx.shape[0])\n",
    "    pbar.set_description(f\"Epoch {epoch}:\")\n",
    "    \n",
    "    total_loss=total_true = 0\n",
    "    for batch_size,n_id,adjs in train_loader:\n",
    "        adjs = [adj.to(device) for adj in adjs]\n",
    "\n",
    "        # Forward\n",
    "        optimizer.zero_grad()\n",
    "        out = model(X[n_id],adjs)\n",
    "        \n",
    "        #backward\n",
    "        loss = F.nll_loss(out, y[n_id[:batch_size]])\n",
    "        loss.backward()\n",
    "        optimizer.step()\n",
    "\n",
    "        total_loss += float(loss)\n",
    "        total_true += int(out.argmax(dim=-1).eq(y[n_id[:batch_size]]).sum())\n",
    "\n",
    "        pbar.update(batch_size)\n",
    "    pbar.close()\n",
    "\n",
    "    loss = total_loss/len(train_loader)\n",
    "    acc = total_true/train_idx.shape[0]\n",
    "    \n",
    "    return loss,acc\n",
    "\n",
    "\n",
    "def save_checkpoint(file_name):\n",
    "    print(f\"=> Saving checkpoint at {file_name}..\")\n",
    "    torch.save(model,file_name)\n",
    "\n",
    "\n",
    "\n",
    "@torch.no_grad()\n",
    "def test():\n",
    "    model.eval()\n",
    "    evaluator = Evaluator(name='ogbn-products')\n",
    "    out = model.inference(X)\n",
    "    y_true = y.cpu().unsqueeze(-1)\n",
    "    y_pred = out.argmax(dim=-1,keepdim=True)\n",
    "\n",
    "    train_acc = evaluator.eval({\"y_true\":y_true[train_idx],\"y_pred\":y_pred[train_idx]})[\"acc\"]\n",
    "    val_acc = evaluator.eval({\"y_true\":y_true[val_idx],\"y_pred\":y_pred[val_idx]})[\"acc\"]\n",
    "    test_acc = evaluator.eval({\"y_true\":y_true[test_idx],\"y_pred\":y_pred[test_idx]})[\"acc\"]\n",
    "    \n",
    "\n",
    "    return train_acc,val_acc,test_acc\n",
    "\n",
    "\n",
    "\n",
    "\n",
    "\n",
    "\n",
    "learning_rate=3e-3\n",
    "num_epochs = 15\n",
    "optimizer = torch.optim.Adam(model.parameters(),lr=learning_rate)\n",
    "\n",
    "\n"
   ]
  },
  {
   "cell_type": "code",
   "execution_count": 13,
   "metadata": {},
   "outputs": [
    {
     "name": "stderr",
     "output_type": "stream",
     "text": [
      "Epoch 0:: 100%|██████████| 196615/196615 [01:45<00:00, 1871.07it/s]\n"
     ]
    },
    {
     "name": "stdout",
     "output_type": "stream",
     "text": [
      "Epch 0, Loss: 0.6463, Train_acc: 0.8298\n"
     ]
    },
    {
     "name": "stderr",
     "output_type": "stream",
     "text": [
      "Epoch 1:: 100%|██████████| 196615/196615 [01:44<00:00, 1886.30it/s]\n"
     ]
    },
    {
     "name": "stdout",
     "output_type": "stream",
     "text": [
      "Epch 1, Loss: 0.3883, Train_acc: 0.8935\n"
     ]
    },
    {
     "name": "stderr",
     "output_type": "stream",
     "text": [
      "Epoch 2:: 100%|██████████| 196615/196615 [01:48<00:00, 1812.15it/s]\n"
     ]
    },
    {
     "name": "stdout",
     "output_type": "stream",
     "text": [
      "Epch 2, Loss: 0.3486, Train_acc: 0.9025\n"
     ]
    },
    {
     "name": "stderr",
     "output_type": "stream",
     "text": [
      "Epoch 3:: 100%|██████████| 196615/196615 [01:55<00:00, 1705.24it/s]\n"
     ]
    },
    {
     "name": "stdout",
     "output_type": "stream",
     "text": [
      "Epch 3, Loss: 0.3321, Train_acc: 0.9069\n"
     ]
    },
    {
     "name": "stderr",
     "output_type": "stream",
     "text": [
      "Epoch 4:: 100%|██████████| 196615/196615 [01:57<00:00, 1668.07it/s]\n"
     ]
    },
    {
     "name": "stdout",
     "output_type": "stream",
     "text": [
      "Epch 4, Loss: 0.3173, Train_acc: 0.9099\n"
     ]
    },
    {
     "name": "stderr",
     "output_type": "stream",
     "text": [
      "Epoch 5:: 100%|██████████| 196615/196615 [01:54<00:00, 1717.01it/s]\n"
     ]
    },
    {
     "name": "stdout",
     "output_type": "stream",
     "text": [
      "Epch 5, Loss: 0.3088, Train_acc: 0.9132\n"
     ]
    },
    {
     "name": "stderr",
     "output_type": "stream",
     "text": [
      "Epoch 6:: 100%|██████████| 196615/196615 [01:58<00:00, 1665.79it/s]\n"
     ]
    },
    {
     "name": "stdout",
     "output_type": "stream",
     "text": [
      "Epch 6, Loss: 0.3094, Train_acc: 0.9135\n"
     ]
    },
    {
     "name": "stderr",
     "output_type": "stream",
     "text": [
      "Epoch 7:: 100%|██████████| 196615/196615 [01:55<00:00, 1707.85it/s]\n"
     ]
    },
    {
     "name": "stdout",
     "output_type": "stream",
     "text": [
      "Epch 7, Loss: 0.3136, Train_acc: 0.9118\n"
     ]
    },
    {
     "name": "stderr",
     "output_type": "stream",
     "text": [
      "Epoch 8:: 100%|██████████| 196615/196615 [01:52<00:00, 1750.60it/s]\n"
     ]
    },
    {
     "name": "stdout",
     "output_type": "stream",
     "text": [
      "Epch 8, Loss: 0.3087, Train_acc: 0.9146\n"
     ]
    },
    {
     "name": "stderr",
     "output_type": "stream",
     "text": [
      "Epoch 9:: 100%|██████████| 196615/196615 [01:53<00:00, 1737.80it/s]\n"
     ]
    },
    {
     "name": "stdout",
     "output_type": "stream",
     "text": [
      "Epch 9, Loss: 0.3138, Train_acc: 0.9110\n"
     ]
    },
    {
     "name": "stderr",
     "output_type": "stream",
     "text": [
      "Epoch 10:: 100%|██████████| 196615/196615 [01:47<00:00, 1833.58it/s]\n"
     ]
    },
    {
     "name": "stdout",
     "output_type": "stream",
     "text": [
      "Epch 10, Loss: 0.3046, Train_acc: 0.9135\n"
     ]
    },
    {
     "name": "stderr",
     "output_type": "stream",
     "text": [
      "Epoch 11:: 100%|██████████| 196615/196615 [01:51<00:00, 1759.80it/s]\n"
     ]
    },
    {
     "name": "stdout",
     "output_type": "stream",
     "text": [
      "Epch 11, Loss: 0.2868, Train_acc: 0.9174\n"
     ]
    },
    {
     "name": "stderr",
     "output_type": "stream",
     "text": [
      "Epoch 12:: 100%|██████████| 196615/196615 [01:55<00:00, 1708.22it/s]\n"
     ]
    },
    {
     "name": "stdout",
     "output_type": "stream",
     "text": [
      "Epch 12, Loss: 0.2866, Train_acc: 0.9185\n"
     ]
    },
    {
     "name": "stderr",
     "output_type": "stream",
     "text": [
      "Epoch 13:: 100%|██████████| 196615/196615 [02:17<00:00, 1431.62it/s]\n"
     ]
    },
    {
     "name": "stdout",
     "output_type": "stream",
     "text": [
      "Epch 13, Loss: 0.2811, Train_acc: 0.9194\n"
     ]
    },
    {
     "name": "stderr",
     "output_type": "stream",
     "text": [
      "Epoch 14:: 100%|██████████| 196615/196615 [02:03<00:00, 1597.74it/s]"
     ]
    },
    {
     "name": "stdout",
     "output_type": "stream",
     "text": [
      "Epch 14, Loss: 0.2835, Train_acc: 0.9193\n"
     ]
    },
    {
     "name": "stderr",
     "output_type": "stream",
     "text": [
      "\n"
     ]
    }
   ],
   "source": [
    "history_loss = []\n",
    "history_acc = []\n",
    "for epoch in range(num_epochs):\n",
    "    loss,acc = trainstep(epoch)\n",
    "    print(f\"Epch {epoch}, Loss: {loss:.4f}, Train_acc: {acc:.4f}\")\n",
    "    history_acc.append(acc)\n",
    "    history_loss.append(loss)"
   ]
  },
  {
   "cell_type": "code",
   "execution_count": null,
   "metadata": {},
   "outputs": [],
   "source": [
    "history = {\"epochs\":[i for i in range(num_epochs)],\n",
    "           \"loss\":history_loss,\n",
    "           \"acc\":history_acc}\n",
    "\n",
    "\n",
    "file_name = os.path.join(MODEL_PATH,\"GnnAmazon.pt\")\n",
    "history = pd.DataFrame(history)\n",
    "\n",
    "history.to_csv(os.path.join(MODEL_PATH,\"history.csv\"))\n",
    "save_checkpoint(file_name)"
   ]
  },
  {
   "cell_type": "code",
   "execution_count": 21,
   "metadata": {},
   "outputs": [],
   "source": [
    "file_name = os.path.join(MODEL_PATH,\"GnnAmazon.pt\")\n",
    "model = torch.load(file_name,map_location=device)"
   ]
  },
  {
   "cell_type": "code",
   "execution_count": 22,
   "metadata": {},
   "outputs": [],
   "source": [
    "subgraph_loader = NeighborSampler(data.edge_index, node_idx=None, sizes=[-1],\n",
    "                                  batch_size=4096, shuffle=False,\n",
    "                                  num_workers=6)"
   ]
  },
  {
   "cell_type": "code",
   "execution_count": 23,
   "metadata": {},
   "outputs": [
    {
     "name": "stderr",
     "output_type": "stream",
     "text": [
      "Evaluating :: 100%|██████████| 7347087/7347087 [05:13<00:00, 23429.95it/s] \n"
     ]
    }
   ],
   "source": [
    "train_acc,val_acc,test_acc = test()"
   ]
  },
  {
   "cell_type": "code",
   "execution_count": 24,
   "metadata": {},
   "outputs": [
    {
     "name": "stdout",
     "output_type": "stream",
     "text": [
      "Train accuracy : 0.93\n",
      "Validation accuracy : 0.92\n",
      "Test accuracy : 0.79\n"
     ]
    }
   ],
   "source": [
    "print(f\"Train accuracy : {train_acc:.2f}\")\n",
    "print(f\"Validation accuracy : {val_acc:.2f}\")\n",
    "print(f\"Test accuracy : {test_acc:.2f}\")"
   ]
  },
  {
   "cell_type": "code",
   "execution_count": 30,
   "metadata": {},
   "outputs": [
    {
     "data": {
      "image/png": "[encoded data removed]",
      "text/plain": [
       "<Figure size 1440x360 with 2 Axes>"
      ]
     },
     "metadata": {
      "needs_background": "light"
     },
     "output_type": "display_data"
    }
   ],
   "source": [
    "history = pd.read_csv(os.path.join(MODEL_PATH,\"history.csv\"))\n",
    "x = np.arange(history.shape[0])\n",
    "fig , axes = plt.subplots(1,2,figsize = (20,5))\n",
    "infos = [\"acc\",\"loss\"]\n",
    "\n",
    "for i in range(2):\n",
    "    axes[i].set_title(f\"{infos[i]} over epochs\")\n",
    "    axes[i].set_ylabel(f\"{infos[i]}\")\n",
    "    axes[i].set_xlabel(f\"epochs\")\n",
    "    axes[i].plot(x,history[infos[i]])\n",
    "    \n"
   ]
  }
 ],
 "metadata": {
  "kernelspec": {
   "display_name": "Python 3",
   "language": "python",
   "name": "python3"
  },
  "language_info": {
   "codemirror_mode": {
    "name": "ipython",
    "version": 3
   },
   "file_extension": ".py",
   "mimetype": "text/x-python",
   "name": "python",
   "nbconvert_exporter": "python",
   "pygments_lexer": "ipython3",
   "version": "3.9.7"
  }
 },
 "nbformat": 4,
 "nbformat_minor": 2
}
